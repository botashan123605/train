{
 "cells": [
  {
   "cell_type": "code",
   "execution_count": 1,
   "metadata": {},
   "outputs": [
    {
     "name": "stderr",
     "output_type": "stream",
     "text": [
      "Using TensorFlow backend.\n",
      "C:\\Users\\yuubo\\Anaconda3\\lib\\site-packages\\h5py\\__init__.py:34: FutureWarning: Conversion of the second argument of issubdtype from `float` to `np.floating` is deprecated. In future, it will be treated as `np.float64 == np.dtype(float).type`.\n",
      "  from ._conv import register_converters as _register_converters\n"
     ]
    }
   ],
   "source": [
    "import keras\n",
    "from keras.layers import Activation,Conv2D,Dense,Dropout,Flatten,MaxPooling2D,BatchNormalization\n",
    "from keras.models import Sequential,load_model\n",
    "from keras.utils.np_utils import to_categorical\n",
    "import numpy as np\n",
    "import matplotlib.pyplot as plt"
   ]
  },
  {
   "cell_type": "code",
   "execution_count": 2,
   "metadata": {},
   "outputs": [
    {
     "name": "stdout",
     "output_type": "stream",
     "text": [
      "(966, 50, 37, 1) (966, 7)\n",
      "(676, 50, 37, 1) (290, 50, 37, 1)\n"
     ]
    }
   ],
   "source": [
    "X=np.load(\"X_train.npy\").reshape(-1,50,37,1)\n",
    "y=to_categorical(np.load(\"y_train.npy\"))\n",
    "\n",
    "print(X.shape,y.shape)\n",
    "\n",
    "from sklearn.model_selection import train_test_split\n",
    "X_train,X_test,y_train,y_test=train_test_split(X,y,test_size=0.3,random_state=0)\n",
    "print(X_train.shape,X_test.shape)"
   ]
  },
  {
   "cell_type": "code",
   "execution_count": null,
   "metadata": {
    "scrolled": true
   },
   "outputs": [
    {
     "name": "stdout",
     "output_type": "stream",
     "text": [
      "WARNING:tensorflow:From C:\\Users\\yuubo\\Anaconda3\\lib\\site-packages\\keras\\backend\\tensorflow_backend.py:1062: calling reduce_prod (from tensorflow.python.ops.math_ops) with keep_dims is deprecated and will be removed in a future version.\n",
      "Instructions for updating:\n",
      "keep_dims is deprecated, use keepdims instead\n",
      "WARNING:tensorflow:From C:\\Users\\yuubo\\Anaconda3\\lib\\site-packages\\keras\\backend\\tensorflow_backend.py:2548: calling reduce_sum (from tensorflow.python.ops.math_ops) with keep_dims is deprecated and will be removed in a future version.\n",
      "Instructions for updating:\n",
      "keep_dims is deprecated, use keepdims instead\n",
      "WARNING:tensorflow:From C:\\Users\\yuubo\\Anaconda3\\lib\\site-packages\\keras\\backend\\tensorflow_backend.py:1123: calling reduce_mean (from tensorflow.python.ops.math_ops) with keep_dims is deprecated and will be removed in a future version.\n",
      "Instructions for updating:\n",
      "keep_dims is deprecated, use keepdims instead\n",
      "Train on 676 samples, validate on 290 samples\n",
      "Epoch 1/30\n",
      "676/676 [==============================] - 72s - loss: 2.0974 - acc: 0.3077 - val_loss: 14.5616 - val_acc: 0.0966\n",
      "Epoch 2/30\n",
      "676/676 [==============================] - 69s - loss: 1.6956 - acc: 0.4260 - val_loss: 13.8840 - val_acc: 0.1379\n",
      "Epoch 3/30\n",
      "676/676 [==============================] - 69s - loss: 1.4801 - acc: 0.4837 - val_loss: 6.0690 - val_acc: 0.1621\n",
      "Epoch 4/30\n",
      "676/676 [==============================] - 74s - loss: 1.3697 - acc: 0.5148 - val_loss: 4.3359 - val_acc: 0.1517\n",
      "Epoch 5/30\n",
      "676/676 [==============================] - 68s - loss: 1.3146 - acc: 0.5547 - val_loss: 10.7699 - val_acc: 0.0966\n",
      "Epoch 6/30\n",
      "676/676 [==============================] - 71s - loss: 1.2485 - acc: 0.5888 - val_loss: 10.7085 - val_acc: 0.1414\n",
      "Epoch 7/30\n",
      "676/676 [==============================] - 75s - loss: 1.1773 - acc: 0.5962 - val_loss: 9.8253 - val_acc: 0.0621\n",
      "Epoch 8/30\n",
      "676/676 [==============================] - 69s - loss: 1.2726 - acc: 0.5459 - val_loss: 9.2598 - val_acc: 0.1448\n",
      "Epoch 9/30\n",
      "676/676 [==============================] - 69s - loss: 1.1990 - acc: 0.5740 - val_loss: 4.8374 - val_acc: 0.1828\n",
      "Epoch 10/30\n",
      "676/676 [==============================] - 75s - loss: 1.1337 - acc: 0.6213 - val_loss: 6.0842 - val_acc: 0.1793\n",
      "Epoch 11/30\n",
      "676/676 [==============================] - 76s - loss: 1.1106 - acc: 0.6006 - val_loss: 7.2024 - val_acc: 0.1000\n",
      "Epoch 12/30\n",
      "676/676 [==============================] - 73s - loss: 1.0274 - acc: 0.6405 - val_loss: 3.1116 - val_acc: 0.1310\n",
      "Epoch 13/30\n",
      "676/676 [==============================] - 72s - loss: 1.0190 - acc: 0.6479 - val_loss: 14.6716 - val_acc: 0.0552\n",
      "Epoch 14/30\n",
      "676/676 [==============================] - 81s - loss: 0.9118 - acc: 0.6879 - val_loss: 6.1525 - val_acc: 0.0552\n",
      "Epoch 15/30\n",
      "676/676 [==============================] - 82s - loss: 0.8286 - acc: 0.7115 - val_loss: 8.5277 - val_acc: 0.0552\n",
      "Epoch 16/30\n",
      "676/676 [==============================] - 82s - loss: 0.7500 - acc: 0.7441 - val_loss: 4.8058 - val_acc: 0.0586\n",
      "Epoch 17/30\n",
      "676/676 [==============================] - 76s - loss: 0.7417 - acc: 0.7485 - val_loss: 2.9719 - val_acc: 0.2241\n",
      "Epoch 18/30\n",
      "676/676 [==============================] - 82s - loss: 0.6290 - acc: 0.7855 - val_loss: 10.3567 - val_acc: 0.0621\n",
      "Epoch 19/30\n",
      "676/676 [==============================] - 71s - loss: 0.5879 - acc: 0.8047 - val_loss: 8.8924 - val_acc: 0.1931\n",
      "Epoch 20/30\n",
      "676/676 [==============================] - 73s - loss: 0.8594 - acc: 0.6805 - val_loss: 1.6512 - val_acc: 0.4828\n",
      "Epoch 21/30\n",
      "676/676 [==============================] - 65s - loss: 0.6369 - acc: 0.8018 - val_loss: 1.4852 - val_acc: 0.4586\n",
      "Epoch 22/30\n",
      "676/676 [==============================] - 65s - loss: 0.5714 - acc: 0.8195 - val_loss: 3.5970 - val_acc: 0.0966\n",
      "Epoch 23/30\n",
      "676/676 [==============================] - 68s - loss: 0.5881 - acc: 0.8077 - val_loss: 1.6136 - val_acc: 0.4138\n",
      "Epoch 24/30\n",
      "672/676 [============================>.] - ETA: 0s - loss: 0.6895 - acc: 0.7798"
     ]
    }
   ],
   "source": [
    "\n",
    "model=Sequential()\n",
    "\n",
    "model.add(Conv2D(filters=32,kernel_size=(3,3),padding=\"same\",input_shape=X_train.shape[1:]))\n",
    "model.add(Activation(\"relu\"))\n",
    "\n",
    "model.add(Conv2D(32,(3,3)))\n",
    "model.add(Activation(\"relu\"))\n",
    "model.add(MaxPooling2D(pool_size=(2,2),strides=(1,1)))\n",
    "model.add(Dropout(0.25))\n",
    "\n",
    "model.add(Conv2D(64,(3,3),padding=\"same\"))\n",
    "model.add(Activation(\"relu\"))\n",
    "\n",
    "model.add(Conv2D(64,(3,3)))\n",
    "model.add(Activation(\"relu\"))\n",
    "model.add(MaxPooling2D(pool_size=(2,2),strides=(1,1)))\n",
    "model.add(Dropout(0.25))\n",
    "\n",
    "model.add(Flatten())\n",
    "model.add(Dense(512))\n",
    "model.add(Activation(\"relu\"))\n",
    "model.add(BatchNormalization())\n",
    "model.add(Dense(128))\n",
    "model.add(Activation(\"relu\"))\n",
    "model.add(BatchNormalization())\n",
    "model.add(Dense(7))\n",
    "model.add(Activation(\"softmax\"))\n",
    "\n",
    "model.compile(loss=\"categorical_crossentropy\",optimizer=\"sgd\",metrics=[\"accuracy\"])\n",
    "\n",
    "history=model.fit(X_train,y_train,batch_size=32,epochs=30,validation_data=(X_test,y_test))\n",
    "\n"
   ]
  },
  {
   "cell_type": "code",
   "execution_count": null,
   "metadata": {
    "collapsed": true
   },
   "outputs": [],
   "source": [
    "scores=model.evaluate(X_test,y_test,verbose=1)\n",
    "print(\"Test loss:\",scores[0])\n",
    "print(\"Test accuracy:\",scores[1])\n",
    "\n",
    "plt.plot(history.history[\"acc\"],label=\"acc\",ls=\"-\",marker=\"o\")\n",
    "plt.plot(history.history[\"val_acc\"],label=\"val_acc\",ls=\"-\",marker=\"x\")\n",
    "plt.ylabel(\"accuracy\")\n",
    "plt.xlabel(\"epoch\")\n",
    "plt.legend(loc=\"best\")\n",
    "plt.show()"
   ]
  }
 ],
 "metadata": {
  "kernelspec": {
   "display_name": "Python 3",
   "language": "python",
   "name": "python3"
  },
  "language_info": {
   "codemirror_mode": {
    "name": "ipython",
    "version": 3
   },
   "file_extension": ".py",
   "mimetype": "text/x-python",
   "name": "python",
   "nbconvert_exporter": "python",
   "pygments_lexer": "ipython3",
   "version": "3.6.3"
  }
 },
 "nbformat": 4,
 "nbformat_minor": 2
}
