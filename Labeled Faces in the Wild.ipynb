{
 "cells": [
  {
   "cell_type": "code",
   "execution_count": 1,
   "metadata": {},
   "outputs": [
    {
     "name": "stderr",
     "output_type": "stream",
     "text": [
      "C:\\Users\\yuubo\\Anaconda3\\lib\\site-packages\\h5py\\__init__.py:34: FutureWarning: Conversion of the second argument of issubdtype from `float` to `np.floating` is deprecated. In future, it will be treated as `np.float64 == np.dtype(float).type`.\n",
      "  from ._conv import register_converters as _register_converters\n"
     ]
    }
   ],
   "source": [
    "# 必要なライブラリを読込\n",
    "import numpy as np\n",
    "import matplotlib.pyplot as plt\n",
    "% matplotlib inline\n",
    "\n",
    "import chainer\n",
    "import chainer.functions as F           # パラメータを含まない関数を収録したパッケージ\n",
    "import chainer.links as L               # パラメータを含む関数を収録したパッケージ\n",
    "from chainer import computational_graph # グラフを出力するパッケージ\n",
    "from chainer import serializers         # モデルの保存や読込を行うパッケージ\n",
    "from chainer import optimizers"
   ]
  },
  {
   "cell_type": "code",
   "execution_count": 2,
   "metadata": {
    "collapsed": true
   },
   "outputs": [],
   "source": [
    "X=np.load(\"X_train.npy\").reshape(-1,1,50,37)\n",
    "y=np.load(\"y_train.npy\")\n",
    "y=y.astype(np.int32)"
   ]
  },
  {
   "cell_type": "code",
   "execution_count": 3,
   "metadata": {
    "collapsed": true
   },
   "outputs": [],
   "source": [
    "from sklearn.model_selection import train_test_split\n",
    "X_train,X_test,y_train,y_test=train_test_split(X,y,test_size=0.3,random_state=0)"
   ]
  },
  {
   "cell_type": "code",
   "execution_count": 4,
   "metadata": {},
   "outputs": [
    {
     "name": "stdout",
     "output_type": "stream",
     "text": [
      "676\n",
      "290\n",
      "(676, 1, 50, 37)\n"
     ]
    }
   ],
   "source": [
    "print(len(X_train))\n",
    "print(len(X_test))\n",
    "print(X_train.shape)"
   ]
  },
  {
   "cell_type": "code",
   "execution_count": 5,
   "metadata": {
    "collapsed": true
   },
   "outputs": [],
   "source": [
    "def draw_picture(data):\n",
    "    img=data.reshape(50,37)\n",
    "    \n",
    "    plt.imshow(img)\n",
    "    \n",
    "    plt.show()"
   ]
  },
  {
   "cell_type": "code",
   "execution_count": 6,
   "metadata": {
    "collapsed": true
   },
   "outputs": [],
   "source": [
    "X_train/=255.0\n",
    "X_test/=255.0"
   ]
  },
  {
   "cell_type": "code",
   "execution_count": 7,
   "metadata": {},
   "outputs": [
    {
     "data": {
      "image/png": "[encoded data removed]",
      "text/plain": [
       "<matplotlib.figure.Figure at 0x14d77483208>"
      ]
     },
     "metadata": {},
     "output_type": "display_data"
    }
   ],
   "source": [
    "draw_picture(X_train[0])"
   ]
  },
  {
   "cell_type": "code",
   "execution_count": 8,
   "metadata": {
    "collapsed": true
   },
   "outputs": [],
   "source": [
    "# CNNの定義\n",
    "class CNN(chainer.Chain):\n",
    "    def __init__(self):\n",
    "        super().__init__()\n",
    "        with self.init_scope():\n",
    "            self.conv1 = L.Convolution2D(in_channels=1, out_channels=64, ksize=4, stride=1, pad=2)\n",
    "            self.conv2 = L.Convolution2D(in_channels=64, out_channels=128, ksize=4, stride=1, pad=2)\n",
    "            self.conv3 = L.Convolution2D(in_channels=None, out_channels=128, ksize=4, stride=1, pad=2) # in_channelをNoneで省略\n",
    "            self.fc4 = L.Linear(None, 512)\n",
    "            self.fc5 = L.Linear(None, 7) # out_channelはクラス数と同じ5に設定\n",
    "        \n",
    "        \n",
    "    def __call__(self, X):\n",
    "        h = F.relu(F.max_pooling_2d(self.conv1(X), ksize=2)) # conv1の畳み込みのあとにMaxPoolingを実行\n",
    "        h = F.relu(F.max_pooling_2d(self.conv2(h), ksize=2)) # conv2の畳み込みのあとにMaxPpoolingを実行\n",
    "        h = F.relu(F.max_pooling_2d(self.conv3(h), ksize=2)) # conv3の畳み込みのあとにMaxPoolingを実行\n",
    "        h = F.relu(self.fc4(h))\n",
    "        return self.fc5(h)\n"
   ]
  },
  {
   "cell_type": "code",
   "execution_count": 9,
   "metadata": {
    "collapsed": true
   },
   "outputs": [],
   "source": [
    "model=L.Classifier(CNN())"
   ]
  },
  {
   "cell_type": "code",
   "execution_count": 10,
   "metadata": {
    "collapsed": true
   },
   "outputs": [],
   "source": [
    "optimizer=chainer.optimizers.SGD()\n",
    "optimizer.setup(model)"
   ]
  },
  {
   "cell_type": "code",
   "execution_count": 11,
   "metadata": {
    "collapsed": true
   },
   "outputs": [],
   "source": [
    "batch_size=100\n",
    "n_epoch=100"
   ]
  },
  {
   "cell_type": "code",
   "execution_count": 12,
   "metadata": {
    "collapsed": true
   },
   "outputs": [],
   "source": [
    "from chainer.datasets import tuple_dataset\n",
    "from chainer import iterators,training\n",
    "from chainer.training import extensions"
   ]
  },
  {
   "cell_type": "code",
   "execution_count": 13,
   "metadata": {
    "collapsed": true
   },
   "outputs": [],
   "source": [
    "train=tuple_dataset.TupleDataset(X_train,y_train)"
   ]
  },
  {
   "cell_type": "code",
   "execution_count": 14,
   "metadata": {
    "collapsed": true
   },
   "outputs": [],
   "source": [
    "train_iter=iterators.SerialIterator(train,batch_size=batch_size,shuffle=True)"
   ]
  },
  {
   "cell_type": "code",
   "execution_count": 15,
   "metadata": {
    "collapsed": true
   },
   "outputs": [],
   "source": [
    "updater=training.StandardUpdater(train_iter,optimizer)"
   ]
  },
  {
   "cell_type": "code",
   "execution_count": 16,
   "metadata": {
    "collapsed": true
   },
   "outputs": [],
   "source": [
    "trainer=training.Trainer(updater,(n_epoch,\"epoch\"),out=\"result\")"
   ]
  },
  {
   "cell_type": "code",
   "execution_count": 17,
   "metadata": {
    "collapsed": true
   },
   "outputs": [],
   "source": [
    "test=tuple_dataset.TupleDataset(X_test,y_test)\n",
    "test_iter=iterators.SerialIterator(test,batch_size=batch_size,shuffle=False,repeat=False)\n",
    "trainer.extend(extensions.Evaluator(test_iter,model))"
   ]
  },
  {
   "cell_type": "code",
   "execution_count": 18,
   "metadata": {
    "collapsed": true
   },
   "outputs": [],
   "source": [
    "trainer.extend(extensions.LogReport())"
   ]
  },
  {
   "cell_type": "code",
   "execution_count": 19,
   "metadata": {
    "collapsed": true
   },
   "outputs": [],
   "source": [
    "trainer.extend(extensions.PrintReport([\"epoch\",\"main/accuracy\",\"main/loss\",\"validation/main/accuracy\",\"validation/main/loss\"]))"
   ]
  },
  {
   "cell_type": "code",
   "execution_count": 20,
   "metadata": {
    "collapsed": true
   },
   "outputs": [],
   "source": [
    "trainer.extend(extensions.ProgressBar())"
   ]
  },
  {
   "cell_type": "code",
   "execution_count": 21,
   "metadata": {
    "collapsed": true
   },
   "outputs": [],
   "source": [
    "trainer.extend(extensions.PlotReport([\"main/accuracy\",\"validation/main/accuracy\"],\"epoch\",file_name=\"accuracy_Labeled_Faces_in_the_Wild.png\"))\n",
    "\n",
    "trainer.extend(extensions.PlotReport([\"main/loss\",\"validation/main/loss\"],\"epoch\",file_name=\"loss_Labeled_Faces_in_the_Wild.png\"))"
   ]
  },
  {
   "cell_type": "code",
   "execution_count": 22,
   "metadata": {},
   "outputs": [
    {
     "name": "stdout",
     "output_type": "stream",
     "text": [
      "epoch       main/accuracy  main/loss   validation/main/accuracy  validation/main/loss\n",
      "1           0.402857       1.73854     0.408148                  1.69165               \n",
      "2           0.41           1.67341     0.408148                  1.68289               \n",
      "3           0.418571       1.64262     0.408148                  1.69158               \n",
      "4           0.414286       1.66318     0.408148                  1.68333               \n",
      "5           0.393333       1.66837     0.408148                  1.67625               \n",
      "6           0.411429       1.64511     0.408148                  1.67292               \n",
      "7           0.42           1.64327     0.408148                  1.65916               \n",
      "8           0.41           1.63498     0.408148                  1.66138               \n",
      "9           0.418333       1.62005     0.408148                  1.67645               \n",
      "10          0.415714       1.62203     0.411481                  1.64954               \n",
      "11          0.428571       1.63975     0.408148                  1.63646               \n",
      "12          0.427143       1.5841      0.418148                  1.65888               \n",
      "13          0.415          1.61735     0.435556                  1.65683               \n",
      "14          0.438571       1.61432     0.411481                  1.63592               \n",
      "     total [#######...........................................] 14.79%\n",
      "this epoch [#######################################...........] 79.29%\n",
      "       100 iter, 14 epoch / 100 epochs\n",
      "       inf iters/sec. Estimated time to finish: 0:00:00.\n",
      "15          0.428571       1.57484     0.432222                  1.6247                \n",
      "16          0.461429       1.5852      0.408148                  1.67522               \n",
      "17          0.375          1.65148     0.414815                  1.60548               \n",
      "18          0.457143       1.58502     0.425185                  1.62712               \n",
      "19          0.414286       1.59134     0.455926                  1.63022               \n",
      "20          0.457143       1.55768     0.418148                  1.58889               \n",
      "21          0.466667       1.5469      0.414815                  1.60545               \n",
      "22          0.454286       1.57887     0.462593                  1.5933                \n",
      "23          0.402857       1.59691     0.455556                  1.64375               \n",
      "24          0.457143       1.56357     0.432222                  1.57579               \n",
      "25          0.471667       1.5225      0.465926                  1.58666               \n",
      "26          0.45           1.55678     0.442593                  1.57951               \n",
      "27          0.478571       1.50801     0.408148                  1.8199                \n",
      "28          0.501429       1.52369     0.462963                  1.56783               \n",
      "29          0.427143       1.56025     0.435185                  1.54586               \n",
      "     total [##############....................................] 29.59%\n",
      "this epoch [#############################.....................] 58.58%\n",
      "       200 iter, 29 epoch / 100 epochs\n",
      "  0.064013 iters/sec. Estimated time to finish: 2:03:55.938683.\n",
      "30          0.496667       1.48099     0.457037                  1.56251               \n",
      "31          0.47           1.51928     0.455556                  1.53148               \n",
      "32          0.485714       1.52083     0.435185                  1.53474               \n",
      "33          0.487143       1.47458     0.414815                  1.62044               \n",
      "34          0.471667       1.4847      0.46963                   1.51045               \n",
      "35          0.477143       1.46276     0.32037                   1.66624               \n",
      "36          0.46           1.49457     0.45963                   1.55027               \n",
      "37          0.482857       1.47599     0.473333                  1.49481               \n",
      "38          0.496667       1.47882     0.24                      1.80284               \n",
      "39          0.462857       1.46982     0.473333                  1.4887                \n",
      "40          0.511429       1.39104     0.44963                   1.55391               \n",
      "41          0.502857       1.45045     0.466296                  1.53097               \n",
      "42          0.5            1.41219     0.438889                  1.47805               \n",
      "43          0.508571       1.38654     0.510741                  1.53379               \n",
      "44          0.514286       1.4312      0.431852                  1.51016               \n",
      "     total [######################............................] 44.38%\n",
      "this epoch [##################................................] 37.87%\n",
      "       300 iter, 44 epoch / 100 epochs\n",
      "  0.069213 iters/sec. Estimated time to finish: 1:30:32.481153.\n",
      "45          0.512857       1.36049     0.431852                  1.5463                \n",
      "46          0.528333       1.35536     0.421481                  1.57523               \n",
      "47          0.511429       1.35336     0.480741                  1.50691               \n",
      "48          0.48           1.41828     0.51                      1.44736               \n",
      "49          0.541429       1.31629     0.493704                  1.43707               \n",
      "50          0.536667       1.31681     0.505926                  1.48314               \n",
      "51          0.492857       1.39341     0.47963                   1.38183               \n",
      "52          0.55           1.27761     0.424815                  1.57798               \n",
      "53          0.524286       1.32748     0.487407                  1.41907               \n",
      "54          0.471429       1.38787     0.441852                  1.42128               \n",
      "55          0.535          1.26149     0.504074                  1.39598               \n",
      "56          0.528571       1.32899     0.284074                  1.67584               \n",
      "57          0.518571       1.27424     0.483333                  1.3487                \n",
      "58          0.534286       1.26277     0.575556                  1.40972               \n",
      "59          0.573333       1.2307      0.454815                  1.48382               \n",
      "     total [#############################.....................] 59.17%\n",
      "this epoch [########..........................................] 17.16%\n",
      "       400 iter, 59 epoch / 100 epochs\n",
      "  0.067367 iters/sec. Estimated time to finish: 1:08:16.948852.\n",
      "60          0.545714       1.26689     0.501481                  1.32675               \n",
      "61          0.578571       1.19356     0.441852                  1.4502                \n",
      "62          0.592857       1.13036     0.521481                  1.30024               \n",
      "63          0.538333       1.24201     0.465185                  1.37464               \n",
      "64          0.572857       1.19907     0.548519                  1.29285               \n",
      "65          0.618571       1.11657     0.46963                   1.36222               \n",
      "66          0.551429       1.21013     0.557037                  1.3186                \n",
      "67          0.651667       1.05477     0.486667                  1.30877               \n",
      "68          0.551429       1.19328     0.627407                  1.23185               \n",
      "69          0.642857       1.02686     0.62037                   1.26038               \n",
      "70          0.561429       1.26867     0.575556                  1.19821               \n",
      "71          0.575          1.20663     0.517778                  1.23787               \n",
      "72          0.645714       1.04844     0.441481                  1.5359                \n",
      "73          0.591429       1.12827     0.632963                  1.18374               \n",
      "     total [####################################..............] 73.96%\n",
      "this epoch [################################################..] 96.45%\n",
      "       500 iter, 73 epoch / 100 epochs\n",
      "  0.067283 iters/sec. Estimated time to finish: 0:43:35.835546.\n",
      "74          0.591429       1.15314     0.541111                  1.20495               \n",
      "75          0.596667       1.09753     0.46963                   1.34639               \n",
      "76          0.66           1.00626     0.6                       1.1369                \n",
      "77          0.705714       0.911244    0.657037                  1.14568               \n",
      "78          0.631429       1.03166     0.427778                  1.54587               \n",
      "79          0.601429       1.15754     0.514074                  1.28623               \n"
     ]
    },
    {
     "name": "stdout",
     "output_type": "stream",
     "text": [
      "80          0.693333       0.933782    0.611481                  1.1559                \n",
      "81          0.694286       0.944628    0.594444                  1.2378                \n",
      "82          0.638571       1.08073     0.626667                  1.07063               \n",
      "83          0.678571       0.8865      0.587407                  1.2148                \n",
      "84          0.641667       1.02604     0.665185                  1.0601                \n",
      "85          0.747143       0.844934    0.601481                  1.13244               \n",
      "86          0.685714       0.96548     0.61963                   1.11414               \n",
      "87          0.685714       0.897222    0.443704                  1.56142               \n",
      "88          0.655          1.05264     0.694815                  1.01178               \n",
      "     total [############################################......] 88.76%\n",
      "this epoch [#####################################.............] 75.74%\n",
      "       600 iter, 88 epoch / 100 epochs\n",
      "  0.068087 iters/sec. Estimated time to finish: 0:18:36.226713.\n",
      "89          0.721429       0.854385    0.67                      1.0554                \n",
      "90          0.734286       0.776332    0.569259                  1.1179                \n",
      "91          0.682857       0.88478     0.608148                  1.21799               \n",
      "92          0.725          0.82031     0.594444                  1.10652               \n",
      "93          0.674286       0.926821    0.643333                  1.00305               \n",
      "94          0.78           0.726222    0.680741                  0.983944              \n",
      "95          0.691429       0.897082    0.626296                  1.08337               \n",
      "96          0.77           0.75499     0.691852                  1.00272               \n",
      "97          0.675714       0.959866    0.592222                  1.09526               \n",
      "98          0.788571       0.687977    0.653704                  1.00128               \n",
      "99          0.762857       0.739793    0.677407                  0.983749              \n",
      "100         0.775          0.668052    0.654815                  1.09341               \n"
     ]
    }
   ],
   "source": [
    "trainer.run()"
   ]
  },
  {
   "cell_type": "code",
   "execution_count": null,
   "metadata": {
    "collapsed": true
   },
   "outputs": [],
   "source": [
    "serializers.save_npz(\"LFW.model\",)"
   ]
  }
 ],
 "metadata": {
  "kernelspec": {
   "display_name": "Python 3",
   "language": "python",
   "name": "python3"
  },
  "language_info": {
   "codemirror_mode": {
    "name": "ipython",
    "version": 3
   },
   "file_extension": ".py",
   "mimetype": "text/x-python",
   "name": "python",
   "nbconvert_exporter": "python",
   "pygments_lexer": "ipython3",
   "version": "3.6.3"
  }
 },
 "nbformat": 4,
 "nbformat_minor": 2
}
