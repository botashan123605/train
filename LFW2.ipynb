{
 "cells": [
  {
   "cell_type": "code",
   "execution_count": 1,
   "metadata": {
    "collapsed": true
   },
   "outputs": [],
   "source": [
    "import numpy as np\n",
    "import pandas as pd\n",
    "import matplotlib.pyplot as plt\n",
    "%matplotlib inline\n",
    "import cv2"
   ]
  },
  {
   "cell_type": "code",
   "execution_count": 2,
   "metadata": {},
   "outputs": [
    {
     "data": {
      "text/plain": [
       "(966, 1, 50, 37)"
      ]
     },
     "execution_count": 2,
     "metadata": {},
     "output_type": "execute_result"
    }
   ],
   "source": [
    "X=np.load(\"X_train.npy\").reshape(-1,1,50,37)\n",
    "y=np.load(\"y_train.npy\").astype(np.int32)\n",
    "X.shape"
   ]
  },
  {
   "cell_type": "code",
   "execution_count": 3,
   "metadata": {
    "collapsed": true
   },
   "outputs": [],
   "source": [
    "def draw_image(data):\n",
    "    img=data.reshape(50,37)\n",
    "    \n",
    "    plt.imshow(img)\n",
    "    plt.gray()\n",
    "    plt.show()"
   ]
  },
  {
   "cell_type": "code",
   "execution_count": 4,
   "metadata": {},
   "outputs": [
    {
     "data": {
      "text/plain": [
       "<matplotlib.image.AxesImage at 0x2287e8ddb70>"
      ]
     },
     "execution_count": 4,
     "metadata": {},
     "output_type": "execute_result"
    },
    {
     "data": {
      "image/png": "[encoded data removed]",
      "text/plain": [
       "<matplotlib.figure.Figure at 0x2287c19aba8>"
      ]
     },
     "metadata": {},
     "output_type": "display_data"
    }
   ],
   "source": [
    "size=(X[0].shape[2],X[0].shape[1])\n",
    "center=(int(size[0]/2),int(size[1]/2))\n",
    "angle=30\n",
    "scale=1.0\n",
    "rotation_matrix=cv2.getRotationMatrix2D(center,angle,scale)\n",
    "rotated=cv2.warpAffine(X[0].reshape(50,37),rotation_matrix,size)\n",
    "\n",
    "plt.imshow(rotated)"
   ]
  },
  {
   "cell_type": "code",
   "execution_count": 5,
   "metadata": {},
   "outputs": [
    {
     "data": {
      "text/plain": [
       "<matplotlib.image.AxesImage at 0x2287ea9ed30>"
      ]
     },
     "execution_count": 5,
     "metadata": {},
     "output_type": "execute_result"
    },
    {
     "data": {
      "image/png": "[encoded data removed]",
      "text/plain": [
       "<matplotlib.figure.Figure at 0x2287c19ab38>"
      ]
     },
     "metadata": {},
     "output_type": "display_data"
    }
   ],
   "source": [
    "flipped=np.fliplr(X[0].reshape(50,37))\n",
    "\n",
    "plt.subplot(1,2,1)\n",
    "plt.imshow(X[0].reshape(50,37))\n",
    "\n",
    "plt.subplot(1,2,2)\n",
    "plt.imshow(flipped)\n"
   ]
  },
  {
   "cell_type": "code",
   "execution_count": 6,
   "metadata": {
    "collapsed": true
   },
   "outputs": [],
   "source": [
    "from sklearn.model_selection import train_test_split\n",
    "X_train,X_test,y_train,y_test=train_test_split(X,y,test_size=0.3,random_state=0)"
   ]
  },
  {
   "cell_type": "code",
   "execution_count": 7,
   "metadata": {},
   "outputs": [
    {
     "name": "stdout",
     "output_type": "stream",
     "text": [
      "(676, 1, 50, 37)\n",
      "(290, 1, 50, 37)\n"
     ]
    }
   ],
   "source": [
    "print(X_train.shape)\n",
    "print(X_test.shape)"
   ]
  },
  {
   "cell_type": "code",
   "execution_count": 8,
   "metadata": {
    "collapsed": true
   },
   "outputs": [],
   "source": [
    "def label_info(index):\n",
    "    draw_image(X[index])\n",
    "    \n",
    "    print(\"label:\"+str(y[index]))\n",
    "    "
   ]
  },
  {
   "cell_type": "code",
   "execution_count": 9,
   "metadata": {
    "collapsed": true
   },
   "outputs": [],
   "source": [
    "X_train /=255\n",
    "X_test /=255\n"
   ]
  },
  {
   "cell_type": "code",
   "execution_count": 10,
   "metadata": {},
   "outputs": [
    {
     "name": "stderr",
     "output_type": "stream",
     "text": [
      "C:\\Users\\yuubo\\Anaconda3\\lib\\site-packages\\h5py\\__init__.py:34: FutureWarning: Conversion of the second argument of issubdtype from `float` to `np.floating` is deprecated. In future, it will be treated as `np.float64 == np.dtype(float).type`.\n",
      "  from ._conv import register_converters as _register_converters\n"
     ]
    }
   ],
   "source": [
    "import chainer\n",
    "import chainer.functions as F\n",
    "import chainer.links as L\n",
    "from chainer import optimizers\n",
    "from chainer.datasets import tuple_dataset,TransformDataset\n",
    "from chainer.training import extensions\n",
    "from chainer import optimizers,serializers,training,iterators"
   ]
  },
  {
   "cell_type": "code",
   "execution_count": 11,
   "metadata": {
    "collapsed": true
   },
   "outputs": [],
   "source": [
    "# CNNの定義\n",
    "class CNN(chainer.Chain):\n",
    "    def __init__(self):\n",
    "        super().__init__()\n",
    "        with self.init_scope():\n",
    "            self.conv1 = L.Convolution2D(in_channels=1, out_channels=64, ksize=4, stride=1, pad=2)\n",
    "            self.conv2 = L.Convolution2D(in_channels=64, out_channels=128, ksize=4, stride=1, pad=2)\n",
    "            self.conv3 = L.Convolution2D(in_channels=None, out_channels=128, ksize=4, stride=1, pad=2) # in_channelをNoneで省略\n",
    "            self.fc4 = L.Linear(None, 512)\n",
    "            self.fc5 = L.Linear(None, 7) # out_channelはクラス数と同じ5に設定\n",
    "        \n",
    "        \n",
    "    def __call__(self, X):\n",
    "        h = F.relu(F.max_pooling_2d(self.conv1(X), ksize=2)) # conv1の畳み込みのあとにMaxPoolingを実行\n",
    "        h = F.relu(F.max_pooling_2d(self.conv2(h), ksize=2)) # conv2の畳み込みのあとにMaxPpoolingを実行\n",
    "        h = F.relu(F.max_pooling_2d(self.conv3(h), ksize=2)) # conv3の畳み込みのあとにMaxPoolingを実行\n",
    "        h = F.relu(self.fc4(h))\n",
    "        return self.fc5(h)"
   ]
  },
  {
   "cell_type": "code",
   "execution_count": 12,
   "metadata": {
    "collapsed": true
   },
   "outputs": [],
   "source": [
    "# 分類器インスタンスの生成\n",
    "model = L.Classifier(CNN())\n",
    "\n",
    "# optimizerの生成\n",
    "optimizer = chainer.optimizers.SGD() # 今回はSGDを採用\n",
    "optimizer.setup(model)               # モデルの構造を読み込ませる\n",
    "\n",
    "# ミニバッチに含まれるサンプル数を指定\n",
    "batchsize = 100\n",
    "\n",
    "# epoch数を指定\n",
    "n_epoch = 70"
   ]
  },
  {
   "cell_type": "code",
   "execution_count": 13,
   "metadata": {
    "collapsed": true
   },
   "outputs": [],
   "source": [
    "train=tuple_dataset.TupleDataset(X_train,y_train)\n",
    "test=tuple_dataset.TupleDataset(X_test,y_test)\n"
   ]
  },
  {
   "cell_type": "code",
   "execution_count": 14,
   "metadata": {
    "collapsed": true
   },
   "outputs": [],
   "source": [
    "def get_augmented(img,random_crop=4):\n",
    "    img=img.reshape(50,37)\n",
    "    \n",
    "    if np.random.rand() > 0.5:\n",
    "        img=np.fliplr(img)\n",
    "    \n",
    "    if np.random.rand() > 0.5:\n",
    "        size=(img.shape[0],img.shape[1])\n",
    "        center=(int(size[0]/2),int(size[1]/2))\n",
    "        angle=np.random.randint(-30,30)\n",
    "        scale=1.0\n",
    "        rotation_matrix=cv2.getRotationMatrix2D(center,angle,scale)\n",
    "        img=cv2.warpAffine(img,rotation_matrix,size)\n",
    "    \n",
    "    img=img.reshape(1,50,37)\n",
    "      \n",
    "    return img"
   ]
  },
  {
   "cell_type": "code",
   "execution_count": 15,
   "metadata": {
    "collapsed": true
   },
   "outputs": [],
   "source": [
    "def process_image(inputs):\n",
    "    image,label=inputs\n",
    "    \n",
    "    image -= np.mean(X_train)\n",
    "    \n",
    "    image /= image.max()\n",
    "    \n",
    "    image=get_augmented(image)\n",
    "    \n",
    "    return image,label\n",
    "    "
   ]
  },
  {
   "cell_type": "code",
   "execution_count": 16,
   "metadata": {
    "collapsed": true
   },
   "outputs": [],
   "source": [
    "train=TransformDataset(train,process_image)\n",
    "test=TransformDataset(test,process_image)"
   ]
  },
  {
   "cell_type": "code",
   "execution_count": 17,
   "metadata": {
    "collapsed": true
   },
   "outputs": [],
   "source": [
    "train_iter=iterators.SerialIterator(train,batch_size=batchsize,shuffle=True)\n",
    "updater=training.StandardUpdater(train_iter,optimizer)\n",
    "trainer=training.Trainer(updater,(n_epoch,\"epoch\"),out=\"result\")"
   ]
  },
  {
   "cell_type": "code",
   "execution_count": 18,
   "metadata": {
    "collapsed": true
   },
   "outputs": [],
   "source": [
    "test_iter=iterators.SerialIterator(test,batch_size=batchsize,shuffle=False,repeat=False)\n",
    "trainer.extend(extensions.Evaluator(test_iter,model))\n",
    "trainer.extend(extensions.LogReport())\n",
    "trainer.extend(extensions.PrintReport([\"epoch\",\"main/accuracy\",\"main/loss\",\"validation/main/accuracy\",\"validation/main/loss\"]))\n",
    "trainer.extend(extensions.ProgressBar())\n",
    "trainer.extend(extensions.PlotReport([\"main/accuracy\",\"validation/main/accuracy\"],\"epoch\",file_name=\"accuracy_LFW2.png\"))\n",
    "trainer.extend(extensions.PlotReport([\"main/loss\",\"validation/main/loss\"],\"epoch\",file_name=\"loss_LFW2.png\"))"
   ]
  },
  {
   "cell_type": "code",
   "execution_count": null,
   "metadata": {
    "scrolled": true
   },
   "outputs": [
    {
     "name": "stdout",
     "output_type": "stream",
     "text": [
      "epoch       main/accuracy  main/loss   validation/main/accuracy  validation/main/loss\n",
      "1           0.355714       1.79412     0.408148                  1.70032               \n",
      "2           0.41           1.66631     0.408148                  1.6881                \n",
      "3           0.4            1.67507     0.408148                  1.67876               \n",
      "4           0.411429       1.63004     0.408148                  1.66315               \n",
      "5           0.413333       1.63326     0.408148                  1.66669               \n",
      "6           0.415714       1.6219      0.408148                  1.65178               \n",
      "7           0.412857       1.62498     0.408148                  1.65238               \n",
      "8           0.44           1.57323     0.408148                  1.63604               \n",
      "9           0.433333       1.59709     0.408148                  1.62731               \n",
      "10          0.422857       1.59373     0.408148                  1.632                 \n",
      "11          0.447143       1.55396     0.408148                  1.62267               \n",
      "12          0.451429       1.56754     0.411481                  1.61671               \n",
      "13          0.44           1.56024     0.415185                  1.59432               \n",
      "14          0.461429       1.52707     0.415185                  1.61627               \n",
      "     total [##########........................................] 21.13%\n",
      "this epoch [#######################################...........] 79.29%\n",
      "       100 iter, 14 epoch / 70 epochs\n",
      "       inf iters/sec. Estimated time to finish: 0:00:00.\n",
      "15          0.464286       1.53471     0.415185                  1.60032               \n",
      "16          0.454286       1.52715     0.411852                  1.58256               \n",
      "17          0.47           1.49289     0.439259                  1.56571               \n",
      "18          0.474286       1.48018     0.428519                  1.56207               \n",
      "19          0.472857       1.50388     0.415185                  1.61778               \n",
      "20          0.454286       1.47772     0.446296                  1.56125               \n"
     ]
    }
   ],
   "source": [
    "trainer.run()"
   ]
  },
  {
   "cell_type": "code",
   "execution_count": null,
   "metadata": {
    "collapsed": true
   },
   "outputs": [],
   "source": []
  }
 ],
 "metadata": {
  "kernelspec": {
   "display_name": "Python 3",
   "language": "python",
   "name": "python3"
  },
  "language_info": {
   "codemirror_mode": {
    "name": "ipython",
    "version": 3
   },
   "file_extension": ".py",
   "mimetype": "text/x-python",
   "name": "python",
   "nbconvert_exporter": "python",
   "pygments_lexer": "ipython3",
   "version": "3.6.3"
  }
 },
 "nbformat": 4,
 "nbformat_minor": 2
}
